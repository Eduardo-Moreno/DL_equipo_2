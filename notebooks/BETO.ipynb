{
 "cells": [
  {
   "cell_type": "markdown",
   "metadata": {
    "id": "Z_LS2RXWnRwR"
   },
   "source": [
    "# Similitud Semantica con BERT\n",
    "\n",
    "**Descripción:** Inferencia de lenguaje natural mediante el ajuste fino del modelo BERT Y BETO.\n"
   ]
  },
  {
   "cell_type": "markdown",
   "metadata": {
    "id": "b7zqJkfdnRwZ"
   },
   "source": [
    "## Introducción\n",
    "\n",
    "Similaridad semántica es la tarea de determinar qué tan similar\n",
    "dos sentencias son, en términos de lo que significan.\n",
    "Este ejemplo demuestra el uso del SNLI (Stanford Natural Language Inference) para predecir la similitud semántica de sentencia con Transformers.\n",
    "Afinaremos un modelo BERT que toma dos frases como entradas\n",
    "y que da como resultado una puntuación de similitud para estas dos frases.\n",
    "\n",
    "### BERT\n",
    "BERT(Bidirectional Encoder Representations from Transformers),  fue uno de los principales logros recientes en el campo de la NLP(Natural Language Processing). En el momento de su lanzamiento en 2018, esta arquitectura estableció el estado del arte en el punto de referencia [GLUE](https://gluebenchmark.com/)(General Language Understanding Evaluation) que abarca numerosas tareas como:\n",
    "* La respuesta a preguntas.\n",
    "* El reconocimiento de entidades nombradas.\n",
    "* La inferencia del lenguaje natural. \n",
    "\n",
    "BERT se basó en la arquitectura [Transformer](https://arxiv.org/pdf/1706.03762.pdf) al agregar el concepto de procesamiento de izquierda a derecha y de derecha a izquierda (bidireccional). También aprovechó el concepto de aprendizaje no supervisado mediante la formación previa de un modelo de lenguaje (ML) masivo en toda la Wikipedia en inglés utilizando un [Modelo de Lenguaje Enmascarado](https://www.quora.com/What-is-a-masked-language-model-and-how-is-it-related-to-BERT).\n",
    "\n",
    "### BETO \n",
    "BETO es una iniciativa para permitir el uso de modelos previamente entrenados en BERT para tareas de PNL en español. Los autores correspondientes publicaron recientemente la biblioteca con algunos resultados.\n",
    "\n",
    "\n",
    "### Referencias\n",
    "* [BERT](https://arxiv.org/pdf/1810.04805.pdf)\n",
    "* [BETO](https://github.com/dccuchile/beto)\n",
    "* [SNLI](https://nlp.stanford.edu/projects/snli/)\n"
   ]
  },
  {
   "cell_type": "markdown",
   "metadata": {
    "id": "thAtqFD_nRwa"
   },
   "source": [
    "## Configuración\n",
    "\n",
    "Las secciones comentadas corresponden a los embeddings de *BETO*. Por otra parte es necesario el uso de la version(transformers==2.11.0)"
   ]
  },
  {
   "cell_type": "code",
   "execution_count": 2,
   "metadata": {
    "colab": {
     "base_uri": "https://localhost:8080/"
    },
    "id": "s2pKY3TAnRwb",
    "outputId": "bb2c1309-68bc-46d8-9776-b14dba3a6891"
   },
   "outputs": [],
   "source": [
    "#!wget https://users.dcc.uchile.cl/~jperez/beto/cased_2M/tensorflow_weights.tar.gz \n",
    "#!tar -xzvf tensorflow_weights.tar.gz\n",
    "#!wget https://users.dcc.uchile.cl/~jperez/beto/cased_2M/vocab.txt \n",
    "#!wget https://users.dcc.uchile.cl/~jperez/beto/cased_2M/config.json \n",
    "#!wget https://users.dcc.uchile.cl/~jperez/beto/cased_2M/pytorch_weights.tar.gz \n",
    "#!mv config.json tensorflow/\n",
    "#!mv vocab.txt tensorflow/\n",
    "#!pip install transformers==2.11.0\n",
    "import numpy as np\n",
    "import pandas as pd\n",
    "import tensorflow as tf\n",
    "import timeit"
   ]
  },
  {
   "cell_type": "code",
   "execution_count": null,
   "metadata": {
    "colab": {
     "base_uri": "https://localhost:8080/"
    },
    "id": "deUSnkkzRMJg",
    "outputId": "7202f53a-e1d9-4560-ef0d-301bc6ec47e5"
   },
   "outputs": [],
   "source": [
    "from google.colab import drive\n",
    "drive.mount('/content/drive')"
   ]
  },
  {
   "cell_type": "markdown",
   "metadata": {
    "id": "qRRw5rQOnRwb"
   },
   "source": [
    "## Configuracion de parámetros"
   ]
  },
  {
   "cell_type": "code",
   "execution_count": 3,
   "metadata": {
    "id": "HfQoLSGJnRwc"
   },
   "outputs": [],
   "source": [
    "max_length = 128  # Longitud máxima de la oración de entrada al modelo.\n",
    "batch_size = 32\n",
    "epochs = 2\n",
    "\n",
    "# Etiquetas en nuestro conjunto de datos.\n",
    "labels = [\"contradicción\", \"vinculación\", \"neutral\"]"
   ]
  },
  {
   "cell_type": "markdown",
   "metadata": {
    "id": "MfL4FCT8nRwc"
   },
   "source": [
    "## Cargar los datos\n",
    "Los datos se cargan de la base de datos [SNLI](https://nlp.stanford.edu/pubs/snli_paper.pdf) la cual es una colección, libremente disponible de pares de oraciones etiquetadas, escrita por humanos basada en el epígrafe de imágenes.\n",
    "\n",
    "Esta base de datos de entrenamiento esta constituida por 550k oraciones.\n",
    "Para nuestra implementación al español usamos solamente 5000 oraciones para entrenamiento, 250 para validacion y 250 de prueba.\n",
    "Esta base de datos lo construimos generando archivos .txt de 250 oraciones del archivo \"train\" original y traduciendo usando [Google Translate](https://translate.google.com/?source=gtx&sl=en&tl=es&op=docs), debido a las limitaciones de traduccion no pudimos enriquecer nuestra base de oraciones. El set de datos original como el traducido se encuentra en [GITHUB](https://github.com/Eduardo-Moreno/DL_equipo_2) del proyecto."
   ]
  },
  {
   "cell_type": "code",
   "execution_count": 13,
   "metadata": {
    "colab": {
     "base_uri": "https://localhost:8080/"
    },
    "id": "w8QxKenmnRwd",
    "outputId": "e49e48c4-f2da-4b1e-e054-220ebb77c095"
   },
   "outputs": [
    {
     "name": "stdout",
     "output_type": "stream",
     "text": [
      "  % Total    % Received % Xferd  Average Speed   Time    Time     Time  Current\n",
      "                                 Dload  Upload   Total   Spent    Left  Speed\n",
      "100  111k  100  111k    0     0   197k      0 --:--:-- --:--:-- --:--:--  196k\n",
      "  % Total    % Received % Xferd  Average Speed   Time    Time     Time  Current\n",
      "                                 Dload  Upload   Total   Spent    Left  Speed\n",
      "100  123k  100  123k    0     0  81737      0  0:00:01  0:00:01 --:--:-- 81737\n",
      "x data_en/\n",
      "x data_en/valid_df.txt\n",
      "x data_en/train_df.txt\n",
      "x data_en/test_df.txt\n",
      "x data_esp/\n",
      "x data_esp/valid_esp.txt\n",
      "x data_esp/test_esp.txt\n",
      "x data_esp/train_esp.txt\n"
     ]
    }
   ],
   "source": [
    "#!curl -LO https://raw.githubusercontent.com/MohamadMerchant/SNLI/master/data.tar.gz\n",
    "#!tar -xvzf data.tar.gz\n",
    "\n",
    "!curl -OL https://raw.githubusercontent.com/Eduardo-Moreno/DL_equipo_2/master/data_en.tar.gz\n",
    "!curl -OL https://raw.githubusercontent.com/Eduardo-Moreno/DL_equipo_2/master/data_esp.tar.gz\n",
    "!tar -xvf data_en.tar.gz\n",
    "!tar -xvf data_esp.tar.gz"
   ]
  },
  {
   "cell_type": "markdown",
   "metadata": {},
   "source": [
    "### Exploración de los datos\n",
    "\n",
    "Como ya lo habiamos mencionado anteriormente el dataset de entrenamiento cuenta 550k oraciones, que provienen de SNLI"
   ]
  },
  {
   "cell_type": "code",
   "execution_count": 12,
   "metadata": {
    "colab": {
     "base_uri": "https://localhost:8080/"
    },
    "id": "008_S7xMnRwd",
    "outputId": "31ceed30-f1b1-44c5-8bba-206314599f57"
   },
   "outputs": [
    {
     "name": "stdout",
     "output_type": "stream",
     "text": [
      "Total train samples : 4998\n",
      "Total validation samples: 250\n",
      "Total test samples: 249\n"
     ]
    }
   ],
   "source": [
    "train = pd.read_csv('data_esp/train_esp.txt', sep = ';' )\n",
    "train_df = train.rename(columns={ ' oración1': 'oracion1',  ' oración2':  'oracion2'})\n",
    "valid = pd.read_csv('data_esp/valid_esp.txt', sep = ';' )\n",
    "valid_df = valid.rename(columns={ ' oración1': 'oracion1',  ' oración2':  'oracion2'})\n",
    "test = pd.read_csv('data_esp/test_esp.txt', sep = ';' )\n",
    "test_df = test.rename(columns={ ' oración1': 'oracion1',  ' oración2':  'oracion2'})\n",
    "\n",
    "print(f\"Total train samples : {train_df.shape[0]}\")\n",
    "print(f\"Total validation samples: {valid_df.shape[0]}\")\n",
    "print(f\"Total test samples: {test_df.shape[0]}\")"
   ]
  },
  {
   "cell_type": "markdown",
   "metadata": {
    "id": "WMLOQA_-nRwd"
   },
   "source": [
    "## Descripción general del conjunto de datos:\n",
    "\n",
    "Estos son los valores de la etiqueta de \"similitud\" en nuestro conjunto de datos:\n",
    "- Contradicción: Las frases no comparten ninguna similitud. \n",
    "- Vinculación: Las frases tienen un significado similar. \n",
    "- Neutral: Las frases son neutrales."
   ]
  },
  {
   "cell_type": "code",
   "execution_count": 14,
   "metadata": {
    "colab": {
     "base_uri": "https://localhost:8080/"
    },
    "id": "-OL0QCMqnRwe",
    "outputId": "f3cfcffb-b452-4e5b-ca5e-560db62b8ee8"
   },
   "outputs": [
    {
     "name": "stdout",
     "output_type": "stream",
     "text": [
      "oracion1:  Una persona en un caballo salta sobre un avión averiado.\n",
      "oracion2:  Una persona está en un restaurante, pidiendo una tortilla.\n",
      "similitud: contradicción\n"
     ]
    }
   ],
   "source": [
    "print(f\"oracion1: {train_df.loc[1, 'oracion1']}\")\n",
    "print(f\"oracion2: {train_df.loc[1, 'oracion2']}\")\n",
    "print(f\"similitud: {train_df.loc[1, 'similitud']}\")"
   ]
  },
  {
   "cell_type": "markdown",
   "metadata": {
    "id": "Ljq7mezGnRwf"
   },
   "source": [
    "## Pre-procesamiento"
   ]
  },
  {
   "cell_type": "code",
   "execution_count": 15,
   "metadata": {
    "colab": {
     "base_uri": "https://localhost:8080/"
    },
    "id": "m6c3IUoonRwf",
    "outputId": "87697bdc-a86d-4018-bd9d-a191cb6c2181"
   },
   "outputs": [
    {
     "name": "stdout",
     "output_type": "stream",
     "text": [
      "Number of missing values\n",
      "similitud     0\n",
      "oracion1      1\n",
      "oracion2     19\n",
      "dtype: int64\n"
     ]
    }
   ],
   "source": [
    "print(\"Number of missing values\")\n",
    "print(train_df.isnull().sum())\n",
    "train_df.dropna(axis=0, inplace=True)"
   ]
  },
  {
   "cell_type": "code",
   "execution_count": 16,
   "metadata": {
    "colab": {
     "base_uri": "https://localhost:8080/"
    },
    "id": "tpMgH0Q7nRwg",
    "outputId": "f5e6deaa-e024-46b5-f44d-b60cc7d9f49d"
   },
   "outputs": [
    {
     "name": "stdout",
     "output_type": "stream",
     "text": [
      "Train Target Distribution\n",
      "contradicción    1663\n",
      "neutral          1648\n",
      "vinculación      1631\n",
      "implicación        28\n",
      "-                   6\n",
      "entailment          2\n",
      "neutro              1\n",
      "Name: similitud, dtype: int64\n"
     ]
    }
   ],
   "source": [
    "print(\"Train Target Distribution\")\n",
    "print(train_df.similitud.value_counts())"
   ]
  },
  {
   "cell_type": "markdown",
   "metadata": {
    "id": "1HLsJMGjnRwg"
   },
   "source": [
    "Distribution of our validation targets."
   ]
  },
  {
   "cell_type": "code",
   "execution_count": 18,
   "metadata": {
    "id": "jeneUey8nRwh"
   },
   "outputs": [],
   "source": [
    "train_df = (\n",
    "    train_df[train_df.similitud != \"-\"]\n",
    "    .sample(frac=1.0, random_state=42)\n",
    "    .reset_index(drop=True)\n",
    ")\n",
    "valid_df = (\n",
    "    valid_df[valid_df.similitud != \"-\"]\n",
    "    .sample(frac=1.0, random_state=42)\n",
    "    .reset_index(drop=True)\n",
    ")"
   ]
  },
  {
   "cell_type": "markdown",
   "metadata": {
    "id": "xPkAHuv3nRwh"
   },
   "source": [
    "One-hot encode training, validation, and test labels."
   ]
  },
  {
   "cell_type": "code",
   "execution_count": 19,
   "metadata": {
    "id": "uavee9_znRwh"
   },
   "outputs": [],
   "source": [
    "train_df[\"label\"] = train_df[\"similitud\"].apply(\n",
    "    lambda x: 0 if x == \"contradicción\" else 1 if x == \"vinculación\" else 2\n",
    ")\n",
    "y_train = tf.keras.utils.to_categorical(train_df.label, num_classes=3)\n",
    "\n",
    "valid_df[\"label\"] = valid_df[\"similitud\"].apply(\n",
    "    lambda x: 0 if x == \"contradicción\" else 1 if x == \"vinculación\" else 2\n",
    ")\n",
    "y_val = tf.keras.utils.to_categorical(valid_df.label, num_classes=3)\n",
    "\n",
    "test_df[\"label\"] = test_df[\"similitud\"].apply(\n",
    "    lambda x: 0 if x == \"contradicción\" else 1 if x == \"vinculación\" else 2\n",
    ")\n",
    "y_test = tf.keras.utils.to_categorical(test_df.label, num_classes=3)"
   ]
  },
  {
   "cell_type": "markdown",
   "metadata": {
    "id": "XRyuBYBinRwi"
   },
   "source": [
    "## Keras Custom Data Generator\n",
    "En esta seccion se genera lotes de datos.\n",
    "Toma como argumentos de entrada:\n",
    "* sentence_pairs: matriz de oraciones de entrada de premisas e hipótesis.\n",
    "* labels: matriz de etiquetas. \n",
    "* batch_size: tamaño de lote entero.\n",
    "* shuffle: boolean, si se barajan los datos. \n",
    "* include_targets: boolean, si incluir el etiquetas. \n",
    "\n",
    "Regresa:\n",
    "* Tuplas `([input_ids, atención_mask,` token_type_ids], labels)\n",
    "\n",
    "\n",
    "Ademas en esta seccion cargamos el tokenizer BERT para codificar el texto. Usaremos un modelo preentrenado \"base-base-uncase\", es en esta sección donde modificamos el modelo pre-entrenado [dccuchile/bert-base-spanish-wwm-uncased](https://github.com/dccuchile/beto) para cargar el modelo preentreado en español."
   ]
  },
  {
   "cell_type": "code",
   "execution_count": null,
   "metadata": {
    "id": "qJpBX9eZnRwi"
   },
   "outputs": [],
   "source": [
    "\n",
    "class BertSemanticDataGenerator(tf.keras.utils.Sequence):\n",
    "\n",
    "    def __init__(\n",
    "        self,\n",
    "        sentence_pairs,\n",
    "        labels,\n",
    "        batch_size=batch_size,\n",
    "        shuffle=True,\n",
    "        include_targets=True,\n",
    "    ):\n",
    "        self.sentence_pairs = sentence_pairs\n",
    "        self.labels = labels\n",
    "        self.shuffle = shuffle\n",
    "        self.batch_size = batch_size\n",
    "        self.include_targets = include_targets\n",
    "\n",
    "        self.tokenizer = transformers.BertTokenizer.from_pretrained(\n",
    "            \"dccuchile/bert-base-spanish-wwm-uncased\", do_lower_case=True\n",
    "        )\n",
    "        self.indexes = np.arange(len(self.sentence_pairs))\n",
    "        self.on_epoch_end()\n",
    "\n",
    "    def __len__(self):\n",
    "        # Denota el número de lotes por época.\n",
    "        return len(self.sentence_pairs) // self.batch_size\n",
    "\n",
    "    def __getitem__(self, idx):\n",
    "        # # Recupera el lote del índex.\n",
    "        indexes = self.indexes[idx * self.batch_size : (idx + 1) * self.batch_size]\n",
    "        sentence_pairs = self.sentence_pairs[indexes]\n",
    "\n",
    "        # El batch de ambas oraciones son codificados juntos y separados por el token [SEP].\n",
    "        encoded = self.tokenizer.batch_encode_plus(\n",
    "            sentence_pairs.tolist(),\n",
    "            add_special_tokens=True,\n",
    "            max_length=max_length,\n",
    "            return_attention_mask=True,\n",
    "            return_token_type_ids=True,\n",
    "            pad_to_max_length=True,\n",
    "            return_tensors=\"tf\",\n",
    "        )\n",
    "\n",
    "        # Convierte el batch of caracteristicas codificadas en un arreglo.\n",
    "        input_ids = np.array(encoded[\"input_ids\"], dtype=\"int32\")\n",
    "        attention_masks = np.array(encoded[\"attention_mask\"], dtype=\"int32\")\n",
    "        token_type_ids = np.array(encoded[\"token_type_ids\"], dtype=\"int32\")\n",
    "\n",
    "        # Se establece en verdadero si el generador de datos se usa para entrenamiento / validación.\n",
    "        if self.include_targets:\n",
    "            labels = np.array(self.labels[indexes], dtype=\"int32\")\n",
    "            return [input_ids, attention_masks, token_type_ids], labels\n",
    "        else:\n",
    "            return [input_ids, attention_masks, token_type_ids]\n",
    "\n",
    "    def on_epoch_end(self):\n",
    "        # Reproducción aleatoria de índices después de cada época si la reproducción aleatoria está establecida en 'True'\n",
    "        if self.shuffle:\n",
    "            np.random.RandomState(42).shuffle(self.indexes)\n"
   ]
  },
  {
   "cell_type": "markdown",
   "metadata": {
    "id": "KJJFptsMnRwj"
   },
   "source": [
    "## Construcción del modelo\n",
    "Se crea el modelo bajo un alcance de estrategia de distribución de esta manera nos permite el uso Bidireccional.\n",
    "definiendo las ids por medio de la tokenización en BERT.\n",
    "* attention_masks: indican al modelo qué tokens deben ser atendidos.\n",
    "* token_type_ids: identifican diferentes secuencias en el modelo \n",
    "\n",
    "Se 'congela' el modelo BERT para reutilizar las funciones previamente entrenadas sin modificarlas.\n",
    "\n",
    "* bi_lstm: Se agregan capas entrenables encima de capas congeladas para adaptar las características entrenadas previamente en los nuevos datos."
   ]
  },
  {
   "cell_type": "code",
   "execution_count": null,
   "metadata": {
    "colab": {
     "base_uri": "https://localhost:8080/"
    },
    "id": "iZV6jNuEnRwk",
    "outputId": "3e7796e9-8a9a-45e9-e06e-07557c05300c"
   },
   "outputs": [],
   "source": [
    "import transformers\n",
    "strategy = tf.distribute.MirroredStrategy()\n",
    "with strategy.scope():\n",
    "    input_ids = tf.keras.layers.Input(\n",
    "        shape=(max_length,), dtype=tf.int32, name=\"input_ids\"\n",
    "    )\n",
    "    attention_masks = tf.keras.layers.Input(\n",
    "        shape=(max_length,), dtype=tf.int32, name=\"attention_masks\"\n",
    "    )\n",
    "    token_type_ids = tf.keras.layers.Input(\n",
    "        shape=(max_length,), dtype=tf.int32, name=\"token_type_ids\"\n",
    "    )\n",
    "    bert_model = transformers.TFBertModel.from_pretrained(\"dccuchile/bert-base-spanish-wwm-uncased\", from_pt = True)\n",
    "    bert_model.trainable = False\n",
    "\n",
    "    sequence_output, pooled_output = bert_model.bert(\n",
    "        input_ids, attention_mask=attention_masks, token_type_ids=token_type_ids\n",
    "    )\n",
    "    bi_lstm = tf.keras.layers.Bidirectional(\n",
    "        tf.keras.layers.LSTM(64, return_sequences=True)\n",
    "    )(sequence_output)\n",
    "    avg_pool = tf.keras.layers.GlobalAveragePooling1D()(bi_lstm)\n",
    "    max_pool = tf.keras.layers.GlobalMaxPooling1D()(bi_lstm)\n",
    "    concat = tf.keras.layers.concatenate([avg_pool, max_pool])\n",
    "    dropout = tf.keras.layers.Dropout(0.3)(concat)\n",
    "    output = tf.keras.layers.Dense(3, activation=\"softmax\")(dropout)\n",
    "    model = tf.keras.models.Model(\n",
    "        inputs=[input_ids, attention_masks, token_type_ids], outputs=output\n",
    "    )\n",
    "\n",
    "    model.compile(\n",
    "        optimizer=tf.keras.optimizers.Adam(),\n",
    "        loss=\"categorical_crossentropy\",\n",
    "        metrics=[\"acc\"],\n",
    "    )\n",
    "\n",
    "\n",
    "print(f\"Strategy: {strategy}\")\n",
    "model.summary()"
   ]
  },
  {
   "cell_type": "markdown",
   "metadata": {
    "id": "i5KGS59_nRwl"
   },
   "source": [
    "### Crear generadores de datos de validación y entrenamiento"
   ]
  },
  {
   "cell_type": "code",
   "execution_count": null,
   "metadata": {
    "id": "YuXHJAexnRwl"
   },
   "outputs": [],
   "source": [
    "train_data = BertSemanticDataGenerator(\n",
    "    train_df[[\"oracion1\", \"oracion2\"]].values.astype(\"str\"),\n",
    "    y_train,\n",
    "    batch_size=batch_size,\n",
    "    shuffle=True,\n",
    ")\n",
    "valid_data = BertSemanticDataGenerator(\n",
    "    valid_df[[\"oracion1\", \"oracion2\"]].values.astype(\"str\"),\n",
    "    y_val,\n",
    "    batch_size=batch_size,\n",
    "    shuffle=False,\n",
    ")"
   ]
  },
  {
   "cell_type": "markdown",
   "metadata": {
    "id": "-Tez4IK4nRwl"
   },
   "source": [
    "## Entrenamiento del modelo de extracción de características\n",
    "El entrenamiento se realiza solo para las capas superiores para realizar la \"extracción de características\", lo que permitirá que el modelo utilice las representaciones del modelo previamente entrenado."
   ]
  },
  {
   "cell_type": "code",
   "execution_count": null,
   "metadata": {
    "colab": {
     "base_uri": "https://localhost:8080/"
    },
    "id": "FAnjQjOLnRwm",
    "outputId": "a2cb6024-e383-47df-f879-4d51230a410d"
   },
   "outputs": [],
   "source": [
    "start = timeit.timeit()\n",
    "history = model.fit(\n",
    "    train_data,\n",
    "    validation_data=valid_data,\n",
    "    epochs=epochs,\n",
    "    use_multiprocessing=True,\n",
    "    workers=-1,\n",
    ")\n",
    "end = timeit.timeit()\n",
    "print(end - start)"
   ]
  },
  {
   "cell_type": "code",
   "execution_count": null,
   "metadata": {
    "id": "RMtWVPMJ_uHP"
   },
   "outputs": [],
   "source": [
    "model.save('drive/MyDrive/my_model_esp_1')"
   ]
  },
  {
   "cell_type": "markdown",
   "metadata": {
    "id": "ajQ455V_nRwm"
   },
   "source": [
    "## Fine-tuning\n",
    "Este paso solo debe realizarse después de que el modelo de extracción de características haya sido entrenado para la convergencia en los nuevos datos. Este es un último paso opcional donde `bert_model` se descongela y se vuelve a entrenar con una tasa de aprendizaje muy baja. Esto puede generar una mejora significativa al adaptando de forma incremental las funciones previamente entrenadas a los nuevos datos."
   ]
  },
  {
   "cell_type": "code",
   "execution_count": null,
   "metadata": {
    "colab": {
     "base_uri": "https://localhost:8080/"
    },
    "id": "eI6_3k29nRwm",
    "outputId": "2666a185-f2d1-4826-b3ed-0e29e3efe9cd"
   },
   "outputs": [],
   "source": [
    "bert_model.trainable = True\n",
    "model.compile(\n",
    "    optimizer=tf.keras.optimizers.Adam(1e-5),\n",
    "    loss=\"categorical_crossentropy\",\n",
    "    metrics=[\"accuracy\"],\n",
    ")\n",
    "model.summary()"
   ]
  },
  {
   "cell_type": "markdown",
   "metadata": {
    "id": "OPIabKaUnRwm"
   },
   "source": [
    "## Entrenamiento del modelo completo(end-to-end)"
   ]
  },
  {
   "cell_type": "code",
   "execution_count": null,
   "metadata": {
    "colab": {
     "base_uri": "https://localhost:8080/"
    },
    "id": "zR2GqzX_nRwn",
    "outputId": "c828ca8b-0629-4a81-8d37-f7b3c0aaf9dc"
   },
   "outputs": [],
   "source": [
    "start = timeit.timeit()\n",
    "history = model.fit(\n",
    "    train_data,\n",
    "    validation_data=valid_data,\n",
    "    epochs=epochs,\n",
    "    use_multiprocessing=True,\n",
    "    workers=-1,\n",
    ")\n",
    "end = timeit.timeit()\n",
    "print(end - start)"
   ]
  },
  {
   "cell_type": "markdown",
   "metadata": {
    "id": "QtCyMoxsnRwn"
   },
   "source": [
    "## Evaluacion del modelo en el set de prueba"
   ]
  },
  {
   "cell_type": "code",
   "execution_count": null,
   "metadata": {
    "colab": {
     "base_uri": "https://localhost:8080/"
    },
    "id": "bYhAldNAnRwn",
    "outputId": "94e89fe9-5934-441d-80fa-cb80c99a25f9"
   },
   "outputs": [],
   "source": [
    "test_data = BertSemanticDataGenerator(\n",
    "    test_df[[\"oracion1\", \"oracion2\"]].values.astype(\"str\"),\n",
    "    y_test,\n",
    "    batch_size=batch_size,\n",
    "    shuffle=False,\n",
    ")\n",
    "model.evaluate(test_data, verbose=1)"
   ]
  },
  {
   "cell_type": "markdown",
   "metadata": {
    "id": "5tEFJqjSnRwn"
   },
   "source": [
    "## Inferencia sobre oraciones personalizadas\n",
    "Una vez entrenado el modelo podemos poner a prueba nuestro modelo de similitud sobre oraciones personalizadas. por medio la funcion \"check_similarity\"."
   ]
  },
  {
   "cell_type": "code",
   "execution_count": null,
   "metadata": {
    "id": "slNb-ME0nRwo"
   },
   "outputs": [],
   "source": [
    "\n",
    "def check_similarity(oracion1, oracion2):\n",
    "    sentence_pairs = np.array([[str(sentence1), str(sentence2)]])\n",
    "    test_data = BertSemanticDataGenerator(\n",
    "        sentence_pairs, labels=None, batch_size=1, shuffle=False, include_targets=False,\n",
    "    )\n",
    "\n",
    "    proba = model.predict(test_data)[0]\n",
    "    idx = np.argmax(proba)\n",
    "    proba = f\"{proba[idx]: .2f}%\"\n",
    "    pred = labels[idx]\n",
    "    return pred, proba\n"
   ]
  },
  {
   "cell_type": "markdown",
   "metadata": {
    "id": "kUlXvmMrnRwo"
   },
   "source": [
    "Check results on some example sentence pairs."
   ]
  },
  {
   "cell_type": "code",
   "execution_count": null,
   "metadata": {
    "colab": {
     "base_uri": "https://localhost:8080/"
    },
    "id": "pkLNqEfznRwo",
    "outputId": "89640fa3-f81b-41b1-fef1-a811c9b5ef5d"
   },
   "outputs": [],
   "source": [
    "oracion1 = \"Dos hombres mirando por la ventana de su dormitorio.\"\n",
    "oracion2 = \"Dos hombres están mirando hacia afuera.\"\n",
    "check_similarity(oracion1, oracion2)"
   ]
  },
  {
   "cell_type": "code",
   "execution_count": null,
   "metadata": {
    "colab": {
     "base_uri": "https://localhost:8080/"
    },
    "id": "CKlZGA3HLUxB",
    "outputId": "d5db553b-d44d-4870-f194-2c335d5e5728"
   },
   "outputs": [],
   "source": [
    "model.save('drive/MyDrive/my_modelBETO')\n",
    "#new_model = tf.keras.models.load_model('drive/MyDrive/my_model2')"
   ]
  }
 ],
 "metadata": {
  "accelerator": "GPU",
  "colab": {
   "collapsed_sections": [],
   "name": "semantic_similarity_with_bert_model1",
   "provenance": []
  },
  "kernelspec": {
   "display_name": "Python 3",
   "language": "python",
   "name": "python3"
  },
  "language_info": {
   "codemirror_mode": {
    "name": "ipython",
    "version": 3
   },
   "file_extension": ".py",
   "mimetype": "text/x-python",
   "name": "python",
   "nbconvert_exporter": "python",
   "pygments_lexer": "ipython3",
   "version": "3.9.1"
  },
  "widgets": {
   "application/vnd.jupyter.widget-state+json": {
    "0beace815c7142cea536c7e8ec05137a": {
     "model_module": "@jupyter-widgets/base",
     "model_name": "LayoutModel",
     "state": {
      "_model_module": "@jupyter-widgets/base",
      "_model_module_version": "1.2.0",
      "_model_name": "LayoutModel",
      "_view_count": null,
      "_view_module": "@jupyter-widgets/base",
      "_view_module_version": "1.2.0",
      "_view_name": "LayoutView",
      "align_content": null,
      "align_items": null,
      "align_self": null,
      "border": null,
      "bottom": null,
      "display": null,
      "flex": null,
      "flex_flow": null,
      "grid_area": null,
      "grid_auto_columns": null,
      "grid_auto_flow": null,
      "grid_auto_rows": null,
      "grid_column": null,
      "grid_gap": null,
      "grid_row": null,
      "grid_template_areas": null,
      "grid_template_columns": null,
      "grid_template_rows": null,
      "height": null,
      "justify_content": null,
      "justify_items": null,
      "left": null,
      "margin": null,
      "max_height": null,
      "max_width": null,
      "min_height": null,
      "min_width": null,
      "object_fit": null,
      "object_position": null,
      "order": null,
      "overflow": null,
      "overflow_x": null,
      "overflow_y": null,
      "padding": null,
      "right": null,
      "top": null,
      "visibility": null,
      "width": null
     }
    },
    "17b8da53af2844658ddfa37e9b3243d7": {
     "model_module": "@jupyter-widgets/base",
     "model_name": "LayoutModel",
     "state": {
      "_model_module": "@jupyter-widgets/base",
      "_model_module_version": "1.2.0",
      "_model_name": "LayoutModel",
      "_view_count": null,
      "_view_module": "@jupyter-widgets/base",
      "_view_module_version": "1.2.0",
      "_view_name": "LayoutView",
      "align_content": null,
      "align_items": null,
      "align_self": null,
      "border": null,
      "bottom": null,
      "display": null,
      "flex": null,
      "flex_flow": null,
      "grid_area": null,
      "grid_auto_columns": null,
      "grid_auto_flow": null,
      "grid_auto_rows": null,
      "grid_column": null,
      "grid_gap": null,
      "grid_row": null,
      "grid_template_areas": null,
      "grid_template_columns": null,
      "grid_template_rows": null,
      "height": null,
      "justify_content": null,
      "justify_items": null,
      "left": null,
      "margin": null,
      "max_height": null,
      "max_width": null,
      "min_height": null,
      "min_width": null,
      "object_fit": null,
      "object_position": null,
      "order": null,
      "overflow": null,
      "overflow_x": null,
      "overflow_y": null,
      "padding": null,
      "right": null,
      "top": null,
      "visibility": null,
      "width": null
     }
    },
    "1991d20aea424b03a5e56bd028a29357": {
     "model_module": "@jupyter-widgets/controls",
     "model_name": "FloatProgressModel",
     "state": {
      "_dom_classes": [],
      "_model_module": "@jupyter-widgets/controls",
      "_model_module_version": "1.5.0",
      "_model_name": "FloatProgressModel",
      "_view_count": null,
      "_view_module": "@jupyter-widgets/controls",
      "_view_module_version": "1.5.0",
      "_view_name": "ProgressView",
      "bar_style": "success",
      "description": "Downloading: 100%",
      "description_tooltip": null,
      "layout": "IPY_MODEL_27937153e0514d578b645d2e67b78f61",
      "max": 231508,
      "min": 0,
      "orientation": "horizontal",
      "style": "IPY_MODEL_b506f8b4234a4077885f8de44bb438f6",
      "value": 231508
     }
    },
    "2112402beeef4e83ac644f0cb732e7b8": {
     "model_module": "@jupyter-widgets/controls",
     "model_name": "ProgressStyleModel",
     "state": {
      "_model_module": "@jupyter-widgets/controls",
      "_model_module_version": "1.5.0",
      "_model_name": "ProgressStyleModel",
      "_view_count": null,
      "_view_module": "@jupyter-widgets/base",
      "_view_module_version": "1.2.0",
      "_view_name": "StyleView",
      "bar_color": null,
      "description_width": "initial"
     }
    },
    "223254ad9c7c4103bd0191826ce60710": {
     "model_module": "@jupyter-widgets/base",
     "model_name": "LayoutModel",
     "state": {
      "_model_module": "@jupyter-widgets/base",
      "_model_module_version": "1.2.0",
      "_model_name": "LayoutModel",
      "_view_count": null,
      "_view_module": "@jupyter-widgets/base",
      "_view_module_version": "1.2.0",
      "_view_name": "LayoutView",
      "align_content": null,
      "align_items": null,
      "align_self": null,
      "border": null,
      "bottom": null,
      "display": null,
      "flex": null,
      "flex_flow": null,
      "grid_area": null,
      "grid_auto_columns": null,
      "grid_auto_flow": null,
      "grid_auto_rows": null,
      "grid_column": null,
      "grid_gap": null,
      "grid_row": null,
      "grid_template_areas": null,
      "grid_template_columns": null,
      "grid_template_rows": null,
      "height": null,
      "justify_content": null,
      "justify_items": null,
      "left": null,
      "margin": null,
      "max_height": null,
      "max_width": null,
      "min_height": null,
      "min_width": null,
      "object_fit": null,
      "object_position": null,
      "order": null,
      "overflow": null,
      "overflow_x": null,
      "overflow_y": null,
      "padding": null,
      "right": null,
      "top": null,
      "visibility": null,
      "width": null
     }
    },
    "27937153e0514d578b645d2e67b78f61": {
     "model_module": "@jupyter-widgets/base",
     "model_name": "LayoutModel",
     "state": {
      "_model_module": "@jupyter-widgets/base",
      "_model_module_version": "1.2.0",
      "_model_name": "LayoutModel",
      "_view_count": null,
      "_view_module": "@jupyter-widgets/base",
      "_view_module_version": "1.2.0",
      "_view_name": "LayoutView",
      "align_content": null,
      "align_items": null,
      "align_self": null,
      "border": null,
      "bottom": null,
      "display": null,
      "flex": null,
      "flex_flow": null,
      "grid_area": null,
      "grid_auto_columns": null,
      "grid_auto_flow": null,
      "grid_auto_rows": null,
      "grid_column": null,
      "grid_gap": null,
      "grid_row": null,
      "grid_template_areas": null,
      "grid_template_columns": null,
      "grid_template_rows": null,
      "height": null,
      "justify_content": null,
      "justify_items": null,
      "left": null,
      "margin": null,
      "max_height": null,
      "max_width": null,
      "min_height": null,
      "min_width": null,
      "object_fit": null,
      "object_position": null,
      "order": null,
      "overflow": null,
      "overflow_x": null,
      "overflow_y": null,
      "padding": null,
      "right": null,
      "top": null,
      "visibility": null,
      "width": null
     }
    },
    "48480cc4b2d04c3391568548e9448a33": {
     "model_module": "@jupyter-widgets/controls",
     "model_name": "FloatProgressModel",
     "state": {
      "_dom_classes": [],
      "_model_module": "@jupyter-widgets/controls",
      "_model_module_version": "1.5.0",
      "_model_name": "FloatProgressModel",
      "_view_count": null,
      "_view_module": "@jupyter-widgets/controls",
      "_view_module_version": "1.5.0",
      "_view_name": "ProgressView",
      "bar_style": "success",
      "description": "Downloading: 100%",
      "description_tooltip": null,
      "layout": "IPY_MODEL_9f4ecdae6047405d936e5e0babc1b68f",
      "max": 440473133,
      "min": 0,
      "orientation": "horizontal",
      "style": "IPY_MODEL_c4088ee66d31477e9f59facccac3c2db",
      "value": 440473133
     }
    },
    "49ab7b80bf03459db505c0792cf1dfd2": {
     "model_module": "@jupyter-widgets/controls",
     "model_name": "HTMLModel",
     "state": {
      "_dom_classes": [],
      "_model_module": "@jupyter-widgets/controls",
      "_model_module_version": "1.5.0",
      "_model_name": "HTMLModel",
      "_view_count": null,
      "_view_module": "@jupyter-widgets/controls",
      "_view_module_version": "1.5.0",
      "_view_name": "HTMLView",
      "description": "",
      "description_tooltip": null,
      "layout": "IPY_MODEL_b4b08964fe9240799475333660193e8d",
      "placeholder": "​",
      "style": "IPY_MODEL_bca1e84df9fb4ebb9971a529dc9b3a9a",
      "value": " 433/433 [00:00&lt;00:00, 1.04kB/s]"
     }
    },
    "5137897b2be34b14b12a4040dc9f963a": {
     "model_module": "@jupyter-widgets/base",
     "model_name": "LayoutModel",
     "state": {
      "_model_module": "@jupyter-widgets/base",
      "_model_module_version": "1.2.0",
      "_model_name": "LayoutModel",
      "_view_count": null,
      "_view_module": "@jupyter-widgets/base",
      "_view_module_version": "1.2.0",
      "_view_name": "LayoutView",
      "align_content": null,
      "align_items": null,
      "align_self": null,
      "border": null,
      "bottom": null,
      "display": null,
      "flex": null,
      "flex_flow": null,
      "grid_area": null,
      "grid_auto_columns": null,
      "grid_auto_flow": null,
      "grid_auto_rows": null,
      "grid_column": null,
      "grid_gap": null,
      "grid_row": null,
      "grid_template_areas": null,
      "grid_template_columns": null,
      "grid_template_rows": null,
      "height": null,
      "justify_content": null,
      "justify_items": null,
      "left": null,
      "margin": null,
      "max_height": null,
      "max_width": null,
      "min_height": null,
      "min_width": null,
      "object_fit": null,
      "object_position": null,
      "order": null,
      "overflow": null,
      "overflow_x": null,
      "overflow_y": null,
      "padding": null,
      "right": null,
      "top": null,
      "visibility": null,
      "width": null
     }
    },
    "5eb78d1ab9c84d44a8ba0d687d59d664": {
     "model_module": "@jupyter-widgets/controls",
     "model_name": "HBoxModel",
     "state": {
      "_dom_classes": [],
      "_model_module": "@jupyter-widgets/controls",
      "_model_module_version": "1.5.0",
      "_model_name": "HBoxModel",
      "_view_count": null,
      "_view_module": "@jupyter-widgets/controls",
      "_view_module_version": "1.5.0",
      "_view_name": "HBoxView",
      "box_style": "",
      "children": [
       "IPY_MODEL_1991d20aea424b03a5e56bd028a29357",
       "IPY_MODEL_feb8645b006a4c4ba73079393ba7ddce"
      ],
      "layout": "IPY_MODEL_73b4fe0b7f8a4d69be318ed6ee0ec7c5"
     }
    },
    "62ffa2e62e1e44d8965b5796dee2977a": {
     "model_module": "@jupyter-widgets/base",
     "model_name": "LayoutModel",
     "state": {
      "_model_module": "@jupyter-widgets/base",
      "_model_module_version": "1.2.0",
      "_model_name": "LayoutModel",
      "_view_count": null,
      "_view_module": "@jupyter-widgets/base",
      "_view_module_version": "1.2.0",
      "_view_name": "LayoutView",
      "align_content": null,
      "align_items": null,
      "align_self": null,
      "border": null,
      "bottom": null,
      "display": null,
      "flex": null,
      "flex_flow": null,
      "grid_area": null,
      "grid_auto_columns": null,
      "grid_auto_flow": null,
      "grid_auto_rows": null,
      "grid_column": null,
      "grid_gap": null,
      "grid_row": null,
      "grid_template_areas": null,
      "grid_template_columns": null,
      "grid_template_rows": null,
      "height": null,
      "justify_content": null,
      "justify_items": null,
      "left": null,
      "margin": null,
      "max_height": null,
      "max_width": null,
      "min_height": null,
      "min_width": null,
      "object_fit": null,
      "object_position": null,
      "order": null,
      "overflow": null,
      "overflow_x": null,
      "overflow_y": null,
      "padding": null,
      "right": null,
      "top": null,
      "visibility": null,
      "width": null
     }
    },
    "6547b353c76449b996b476a612934434": {
     "model_module": "@jupyter-widgets/controls",
     "model_name": "DescriptionStyleModel",
     "state": {
      "_model_module": "@jupyter-widgets/controls",
      "_model_module_version": "1.5.0",
      "_model_name": "DescriptionStyleModel",
      "_view_count": null,
      "_view_module": "@jupyter-widgets/base",
      "_view_module_version": "1.2.0",
      "_view_name": "StyleView",
      "description_width": ""
     }
    },
    "73b4fe0b7f8a4d69be318ed6ee0ec7c5": {
     "model_module": "@jupyter-widgets/base",
     "model_name": "LayoutModel",
     "state": {
      "_model_module": "@jupyter-widgets/base",
      "_model_module_version": "1.2.0",
      "_model_name": "LayoutModel",
      "_view_count": null,
      "_view_module": "@jupyter-widgets/base",
      "_view_module_version": "1.2.0",
      "_view_name": "LayoutView",
      "align_content": null,
      "align_items": null,
      "align_self": null,
      "border": null,
      "bottom": null,
      "display": null,
      "flex": null,
      "flex_flow": null,
      "grid_area": null,
      "grid_auto_columns": null,
      "grid_auto_flow": null,
      "grid_auto_rows": null,
      "grid_column": null,
      "grid_gap": null,
      "grid_row": null,
      "grid_template_areas": null,
      "grid_template_columns": null,
      "grid_template_rows": null,
      "height": null,
      "justify_content": null,
      "justify_items": null,
      "left": null,
      "margin": null,
      "max_height": null,
      "max_width": null,
      "min_height": null,
      "min_width": null,
      "object_fit": null,
      "object_position": null,
      "order": null,
      "overflow": null,
      "overflow_x": null,
      "overflow_y": null,
      "padding": null,
      "right": null,
      "top": null,
      "visibility": null,
      "width": null
     }
    },
    "7fc8e06cbb214f918c9f4189ed37fca3": {
     "model_module": "@jupyter-widgets/controls",
     "model_name": "HTMLModel",
     "state": {
      "_dom_classes": [],
      "_model_module": "@jupyter-widgets/controls",
      "_model_module_version": "1.5.0",
      "_model_name": "HTMLModel",
      "_view_count": null,
      "_view_module": "@jupyter-widgets/controls",
      "_view_module_version": "1.5.0",
      "_view_name": "HTMLView",
      "description": "",
      "description_tooltip": null,
      "layout": "IPY_MODEL_17b8da53af2844658ddfa37e9b3243d7",
      "placeholder": "​",
      "style": "IPY_MODEL_a63ae9693fce4304bc47eb48b9f78949",
      "value": " 440M/440M [00:27&lt;00:00, 15.8MB/s]"
     }
    },
    "9d98867cbd684682b2b521d9becdf873": {
     "model_module": "@jupyter-widgets/controls",
     "model_name": "HBoxModel",
     "state": {
      "_dom_classes": [],
      "_model_module": "@jupyter-widgets/controls",
      "_model_module_version": "1.5.0",
      "_model_name": "HBoxModel",
      "_view_count": null,
      "_view_module": "@jupyter-widgets/controls",
      "_view_module_version": "1.5.0",
      "_view_name": "HBoxView",
      "box_style": "",
      "children": [
       "IPY_MODEL_48480cc4b2d04c3391568548e9448a33",
       "IPY_MODEL_7fc8e06cbb214f918c9f4189ed37fca3"
      ],
      "layout": "IPY_MODEL_62ffa2e62e1e44d8965b5796dee2977a"
     }
    },
    "9ee0d177897447809d71699f34a46e58": {
     "model_module": "@jupyter-widgets/controls",
     "model_name": "FloatProgressModel",
     "state": {
      "_dom_classes": [],
      "_model_module": "@jupyter-widgets/controls",
      "_model_module_version": "1.5.0",
      "_model_name": "FloatProgressModel",
      "_view_count": null,
      "_view_module": "@jupyter-widgets/controls",
      "_view_module_version": "1.5.0",
      "_view_name": "ProgressView",
      "bar_style": "success",
      "description": "Downloading: 100%",
      "description_tooltip": null,
      "layout": "IPY_MODEL_223254ad9c7c4103bd0191826ce60710",
      "max": 433,
      "min": 0,
      "orientation": "horizontal",
      "style": "IPY_MODEL_2112402beeef4e83ac644f0cb732e7b8",
      "value": 433
     }
    },
    "9f4ecdae6047405d936e5e0babc1b68f": {
     "model_module": "@jupyter-widgets/base",
     "model_name": "LayoutModel",
     "state": {
      "_model_module": "@jupyter-widgets/base",
      "_model_module_version": "1.2.0",
      "_model_name": "LayoutModel",
      "_view_count": null,
      "_view_module": "@jupyter-widgets/base",
      "_view_module_version": "1.2.0",
      "_view_name": "LayoutView",
      "align_content": null,
      "align_items": null,
      "align_self": null,
      "border": null,
      "bottom": null,
      "display": null,
      "flex": null,
      "flex_flow": null,
      "grid_area": null,
      "grid_auto_columns": null,
      "grid_auto_flow": null,
      "grid_auto_rows": null,
      "grid_column": null,
      "grid_gap": null,
      "grid_row": null,
      "grid_template_areas": null,
      "grid_template_columns": null,
      "grid_template_rows": null,
      "height": null,
      "justify_content": null,
      "justify_items": null,
      "left": null,
      "margin": null,
      "max_height": null,
      "max_width": null,
      "min_height": null,
      "min_width": null,
      "object_fit": null,
      "object_position": null,
      "order": null,
      "overflow": null,
      "overflow_x": null,
      "overflow_y": null,
      "padding": null,
      "right": null,
      "top": null,
      "visibility": null,
      "width": null
     }
    },
    "a63ae9693fce4304bc47eb48b9f78949": {
     "model_module": "@jupyter-widgets/controls",
     "model_name": "DescriptionStyleModel",
     "state": {
      "_model_module": "@jupyter-widgets/controls",
      "_model_module_version": "1.5.0",
      "_model_name": "DescriptionStyleModel",
      "_view_count": null,
      "_view_module": "@jupyter-widgets/base",
      "_view_module_version": "1.2.0",
      "_view_name": "StyleView",
      "description_width": ""
     }
    },
    "b4b08964fe9240799475333660193e8d": {
     "model_module": "@jupyter-widgets/base",
     "model_name": "LayoutModel",
     "state": {
      "_model_module": "@jupyter-widgets/base",
      "_model_module_version": "1.2.0",
      "_model_name": "LayoutModel",
      "_view_count": null,
      "_view_module": "@jupyter-widgets/base",
      "_view_module_version": "1.2.0",
      "_view_name": "LayoutView",
      "align_content": null,
      "align_items": null,
      "align_self": null,
      "border": null,
      "bottom": null,
      "display": null,
      "flex": null,
      "flex_flow": null,
      "grid_area": null,
      "grid_auto_columns": null,
      "grid_auto_flow": null,
      "grid_auto_rows": null,
      "grid_column": null,
      "grid_gap": null,
      "grid_row": null,
      "grid_template_areas": null,
      "grid_template_columns": null,
      "grid_template_rows": null,
      "height": null,
      "justify_content": null,
      "justify_items": null,
      "left": null,
      "margin": null,
      "max_height": null,
      "max_width": null,
      "min_height": null,
      "min_width": null,
      "object_fit": null,
      "object_position": null,
      "order": null,
      "overflow": null,
      "overflow_x": null,
      "overflow_y": null,
      "padding": null,
      "right": null,
      "top": null,
      "visibility": null,
      "width": null
     }
    },
    "b506f8b4234a4077885f8de44bb438f6": {
     "model_module": "@jupyter-widgets/controls",
     "model_name": "ProgressStyleModel",
     "state": {
      "_model_module": "@jupyter-widgets/controls",
      "_model_module_version": "1.5.0",
      "_model_name": "ProgressStyleModel",
      "_view_count": null,
      "_view_module": "@jupyter-widgets/base",
      "_view_module_version": "1.2.0",
      "_view_name": "StyleView",
      "bar_color": null,
      "description_width": "initial"
     }
    },
    "bca1e84df9fb4ebb9971a529dc9b3a9a": {
     "model_module": "@jupyter-widgets/controls",
     "model_name": "DescriptionStyleModel",
     "state": {
      "_model_module": "@jupyter-widgets/controls",
      "_model_module_version": "1.5.0",
      "_model_name": "DescriptionStyleModel",
      "_view_count": null,
      "_view_module": "@jupyter-widgets/base",
      "_view_module_version": "1.2.0",
      "_view_name": "StyleView",
      "description_width": ""
     }
    },
    "c4088ee66d31477e9f59facccac3c2db": {
     "model_module": "@jupyter-widgets/controls",
     "model_name": "ProgressStyleModel",
     "state": {
      "_model_module": "@jupyter-widgets/controls",
      "_model_module_version": "1.5.0",
      "_model_name": "ProgressStyleModel",
      "_view_count": null,
      "_view_module": "@jupyter-widgets/base",
      "_view_module_version": "1.2.0",
      "_view_name": "StyleView",
      "bar_color": null,
      "description_width": "initial"
     }
    },
    "e7a4b7709fc542a087a967f711f20693": {
     "model_module": "@jupyter-widgets/controls",
     "model_name": "HBoxModel",
     "state": {
      "_dom_classes": [],
      "_model_module": "@jupyter-widgets/controls",
      "_model_module_version": "1.5.0",
      "_model_name": "HBoxModel",
      "_view_count": null,
      "_view_module": "@jupyter-widgets/controls",
      "_view_module_version": "1.5.0",
      "_view_name": "HBoxView",
      "box_style": "",
      "children": [
       "IPY_MODEL_9ee0d177897447809d71699f34a46e58",
       "IPY_MODEL_49ab7b80bf03459db505c0792cf1dfd2"
      ],
      "layout": "IPY_MODEL_5137897b2be34b14b12a4040dc9f963a"
     }
    },
    "feb8645b006a4c4ba73079393ba7ddce": {
     "model_module": "@jupyter-widgets/controls",
     "model_name": "HTMLModel",
     "state": {
      "_dom_classes": [],
      "_model_module": "@jupyter-widgets/controls",
      "_model_module_version": "1.5.0",
      "_model_name": "HTMLModel",
      "_view_count": null,
      "_view_module": "@jupyter-widgets/controls",
      "_view_module_version": "1.5.0",
      "_view_name": "HTMLView",
      "description": "",
      "description_tooltip": null,
      "layout": "IPY_MODEL_0beace815c7142cea536c7e8ec05137a",
      "placeholder": "​",
      "style": "IPY_MODEL_6547b353c76449b996b476a612934434",
      "value": " 232k/232k [00:00&lt;00:00, 1.44MB/s]"
     }
    }
   }
  }
 },
 "nbformat": 4,
 "nbformat_minor": 4
}
